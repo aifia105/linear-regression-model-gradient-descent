{
 "cells": [
  {
   "cell_type": "code",
   "id": "initial_id",
   "metadata": {
    "collapsed": true,
    "ExecuteTime": {
     "end_time": "2024-04-28T12:46:08.047711Z",
     "start_time": "2024-04-28T12:46:07.725405Z"
    }
   },
   "source": [
    "import copy, math\n",
    "import numpy as np\n",
    "import matplotlib.pyplot as plt\n",
    "np.set_printoptions(precision=2)"
   ],
   "outputs": [],
   "execution_count": 1
  },
  {
   "metadata": {
    "ExecuteTime": {
     "end_time": "2024-04-28T12:46:09.302670Z",
     "start_time": "2024-04-28T12:46:09.299048Z"
    }
   },
   "cell_type": "code",
   "source": [
    "x_train = np.array([[2104, 5, 1, 45], [1416, 3, 2, 40], [852, 2, 1, 35]])\n",
    "y_train = np.array([460, 232, 178])"
   ],
   "id": "1933749626b802fa",
   "outputs": [],
   "execution_count": 2
  },
  {
   "metadata": {
    "ExecuteTime": {
     "end_time": "2024-04-28T12:46:13.279331Z",
     "start_time": "2024-04-28T12:46:13.275980Z"
    }
   },
   "cell_type": "code",
   "source": [
    "print(f\"X shape: {x_train.shape}, x type: {type(x_train)}\")\n",
    "print(x_train)\n",
    "print(f\"y shape: {y_train.shape}, y type: {type(y_train)}\")\n",
    "print(y_train)"
   ],
   "id": "62fe8575cd4dd203",
   "outputs": [
    {
     "name": "stdout",
     "output_type": "stream",
     "text": [
      "X shape: (3, 4), x type: <class 'numpy.ndarray'>\n",
      "[[2104    5    1   45]\n",
      " [1416    3    2   40]\n",
      " [ 852    2    1   35]]\n",
      "y shape: (3,), y type: <class 'numpy.ndarray'>\n",
      "[460 232 178]\n"
     ]
    }
   ],
   "execution_count": 3
  },
  {
   "metadata": {
    "ExecuteTime": {
     "end_time": "2024-04-28T12:46:21.700750Z",
     "start_time": "2024-04-28T12:46:21.696923Z"
    }
   },
   "cell_type": "code",
   "source": [
    "b_init = 785.1811367994083\n",
    "w_init = np.array([ 0.39133535, 18.75376741, -53.36032453, -26.42131618])\n",
    "print(f\"w_init shape: {w_init.shape}, b_init type: {type(b_init)}\")"
   ],
   "id": "5c432c72a442cc3b",
   "outputs": [
    {
     "name": "stdout",
     "output_type": "stream",
     "text": [
      "w_init shape: (4,), b_init type: <class 'float'>\n"
     ]
    }
   ],
   "execution_count": 4
  },
  {
   "metadata": {
    "ExecuteTime": {
     "end_time": "2024-04-28T12:46:24.972829Z",
     "start_time": "2024-04-28T12:46:24.967680Z"
    }
   },
   "cell_type": "code",
   "source": [
    "def predict_single_loop(x,w,b):\n",
    "    n = x.shape[0]\n",
    "    p = 0\n",
    "    for i in range(n):\n",
    "        p_i = x[i]* w[i]\n",
    "        p = p + p_i\n",
    "    p = p + b \n",
    "    return p"
   ],
   "id": "3971320f77d27db9",
   "outputs": [],
   "execution_count": 5
  },
  {
   "metadata": {
    "ExecuteTime": {
     "end_time": "2024-04-28T12:46:26.814555Z",
     "start_time": "2024-04-28T12:46:26.809935Z"
    }
   },
   "cell_type": "code",
   "source": [
    "x_vec = x_train[0,:]\n",
    "print(f\"x_vec shape: {x_vec.shape}, x_vec value: {x_vec}\")\n",
    "f_wb = predict_single_loop(x_vec, w_init, b_init)\n",
    "print(f\"f_wb shape: {f_wb.shape}, prediction: {f_wb}\")"
   ],
   "id": "6d20229f44b5c397",
   "outputs": [
    {
     "name": "stdout",
     "output_type": "stream",
     "text": [
      "x_vec shape: (4,), x_vec value: [2104    5    1   45]\n",
      "f_wb shape: (), prediction: 459.9999976194083\n"
     ]
    }
   ],
   "execution_count": 6
  },
  {
   "metadata": {
    "ExecuteTime": {
     "end_time": "2024-04-28T12:46:44.894613Z",
     "start_time": "2024-04-28T12:46:44.892095Z"
    }
   },
   "cell_type": "code",
   "source": [
    "def predict(x,w,b):\n",
    "    p = np.dot(x,w) + b\n",
    "    return p"
   ],
   "id": "2ac197e19ceb5da4",
   "outputs": [],
   "execution_count": 7
  },
  {
   "metadata": {
    "ExecuteTime": {
     "end_time": "2024-04-28T12:46:45.848895Z",
     "start_time": "2024-04-28T12:46:45.842672Z"
    }
   },
   "cell_type": "code",
   "source": [
    "x_vec = x_train[0,:]\n",
    "print(f\"x_vec shape: {x_vec.shape}, x_vec value: {x_vec}\")\n",
    "f_wb = predict(x_vec, w_init, b_init)\n",
    "print(f\"f_wb shape: {f_wb.shape}, prediction: {f_wb}\")"
   ],
   "id": "120db1e28de166c3",
   "outputs": [
    {
     "name": "stdout",
     "output_type": "stream",
     "text": [
      "x_vec shape: (4,), x_vec value: [2104    5    1   45]\n",
      "f_wb shape: (), prediction: 459.9999976194083\n"
     ]
    }
   ],
   "execution_count": 8
  },
  {
   "metadata": {
    "ExecuteTime": {
     "end_time": "2024-04-28T12:46:51.148037Z",
     "start_time": "2024-04-28T12:46:51.145173Z"
    }
   },
   "cell_type": "code",
   "source": [
    "def compute_cost(x,y,w,b):\n",
    "    m = x.shape[0]\n",
    "    cost = 0.0\n",
    "    for i in range(m):\n",
    "        f_wb_i = np.dot(x,w[i]) + b\n",
    "        cost = cost + (f_wb_i - y[i])**2\n",
    "    cost = cost / (2*m)\n",
    "    return cost"
   ],
   "id": "5315e59015d750a1",
   "outputs": [],
   "execution_count": 9
  },
  {
   "metadata": {
    "ExecuteTime": {
     "end_time": "2024-04-28T12:46:52.331522Z",
     "start_time": "2024-04-28T12:46:52.327048Z"
    }
   },
   "cell_type": "code",
   "source": [
    "cost = compute_cost(x_train, y_train, w_init, b_init)\n",
    "print(f\"cost at optimal w: {cost}\")"
   ],
   "id": "d626fe6b101f0b4d",
   "outputs": [
    {
     "name": "stdout",
     "output_type": "stream",
     "text": [
      "cost at optimal w: [[2.35e+09 1.07e+05 1.23e+05 8.81e+05]\n",
      " [1.06e+09 1.13e+05 1.18e+05 6.91e+05]\n",
      " [3.81e+08 1.18e+05 1.23e+05 5.28e+05]]\n"
     ]
    }
   ],
   "execution_count": 10
  },
  {
   "metadata": {
    "ExecuteTime": {
     "end_time": "2024-04-28T13:05:37.736693Z",
     "start_time": "2024-04-28T13:05:37.731988Z"
    }
   },
   "cell_type": "code",
   "source": [
    "def compute_gradient(x,y,w,b):\n",
    "    m,n = x.shape\n",
    "    dj_dw = np.zeros((n,))\n",
    "    dj_db = 0.\n",
    "    for i in range(m):\n",
    "        err = (np.dot(x[i],w)+b) - y[i]\n",
    "        for j in range(n):\n",
    "            dj_dw[j] = dj_dw[j] + err*x[i,j]\n",
    "        dj_db = dj_db + err\n",
    "    dj_dw = dj_dw / m\n",
    "    dj_db = dj_db / m\n",
    "    return dj_dw,dj_db"
   ],
   "id": "f0a039aceb0ab4b0",
   "outputs": [],
   "execution_count": 16
  },
  {
   "metadata": {
    "ExecuteTime": {
     "end_time": "2024-04-28T13:05:39.284890Z",
     "start_time": "2024-04-28T13:05:39.280697Z"
    }
   },
   "cell_type": "code",
   "source": [
    "tmp_dj_db, tmp_dj_dw = compute_gradient(x_train, y_train, w_init, b_init)\n",
    "print(f'dj_db at initial w,b: {tmp_dj_db}')\n",
    "print(f'dj_dw at initial w,b: {tmp_dj_dw}')"
   ],
   "id": "d4ba71187a80f880",
   "outputs": [
    {
     "name": "stdout",
     "output_type": "stream",
     "text": [
      "dj_db at initial w,b: [-2.73e-03 -6.27e-06 -2.22e-06 -6.92e-05]\n",
      "dj_dw at initial w,b: -1.6739251501955248e-06\n"
     ]
    }
   ],
   "execution_count": 17
  },
  {
   "metadata": {
    "ExecuteTime": {
     "end_time": "2024-04-28T13:05:41.676836Z",
     "start_time": "2024-04-28T13:05:41.673583Z"
    }
   },
   "cell_type": "code",
   "source": [
    "def gradient_descent(x,y,w_in,b_in,cost_function, gradient_function, alpha, num_iters):\n",
    "    j_history = []\n",
    "    w = copy.deepcopy(w_in)\n",
    "    b = b_in\n",
    "    \n",
    "    for i in range(num_iters):\n",
    "        dj_db,dj_dw = gradient_function(x,y,w,b)\n",
    "        w = w - alpha * dj_dw\n",
    "        b = b - alpha * dj_db\n",
    "        \n",
    "        if i < 1000000:\n",
    "            j_history.append(cost_function(x,y,w,b))\n",
    "        \n",
    "        if i% math.ceil(num_iters/10) == 0:\n",
    "            print(f'Iteration {i:4d}: cost {j_history[-1]:8.2f}')\n",
    "    return w,b,j_history\n",
    "    "
   ],
   "id": "40ca3e19b5bba9b5",
   "outputs": [],
   "execution_count": 18
  },
  {
   "metadata": {
    "ExecuteTime": {
     "end_time": "2024-04-28T13:05:46.946539Z",
     "start_time": "2024-04-28T13:05:46.929794Z"
    }
   },
   "cell_type": "code",
   "source": [
    "initial_w = np.zeros_like(w_init)\n",
    "initial_b = 0.\n",
    "iterations = 10000\n",
    "alpha = 5.0e-7\n",
    "w_final, b_final , j_hist = gradient_descent(x_train, y_train, initial_w, initial_b,\n",
    "                                                    compute_cost, compute_gradient, \n",
    "                                                    alpha, iterations)\n",
    "print(f\"b,w found by gradient descent: {b_final:0.2f},{w_final} \")\n",
    "m,_ = x_train.shape\n",
    "for i in range(m):\n",
    "    print(f'prediction: {np.dot(x_train[i], w_final) + b_final:0.2f}, target value: {y_train[i]} ')"
   ],
   "id": "800cbb2ea1f7bd72",
   "outputs": [
    {
     "ename": "TypeError",
     "evalue": "unsupported format string passed to numpy.ndarray.__format__",
     "output_type": "error",
     "traceback": [
      "\u001B[1;31m---------------------------------------------------------------------------\u001B[0m",
      "\u001B[1;31mTypeError\u001B[0m                                 Traceback (most recent call last)",
      "Cell \u001B[1;32mIn[19], line 5\u001B[0m\n\u001B[0;32m      3\u001B[0m iterations \u001B[38;5;241m=\u001B[39m \u001B[38;5;241m10000\u001B[39m\n\u001B[0;32m      4\u001B[0m alpha \u001B[38;5;241m=\u001B[39m \u001B[38;5;241m5.0e-7\u001B[39m\n\u001B[1;32m----> 5\u001B[0m w_final, b_final , j_hist \u001B[38;5;241m=\u001B[39m \u001B[43mgradient_descent\u001B[49m\u001B[43m(\u001B[49m\u001B[43mx_train\u001B[49m\u001B[43m,\u001B[49m\u001B[43m \u001B[49m\u001B[43my_train\u001B[49m\u001B[43m,\u001B[49m\u001B[43m \u001B[49m\u001B[43minitial_w\u001B[49m\u001B[43m,\u001B[49m\u001B[43m \u001B[49m\u001B[43minitial_b\u001B[49m\u001B[43m,\u001B[49m\n\u001B[0;32m      6\u001B[0m \u001B[43m                                                    \u001B[49m\u001B[43mcompute_cost\u001B[49m\u001B[43m,\u001B[49m\u001B[43m \u001B[49m\u001B[43mcompute_gradient\u001B[49m\u001B[43m,\u001B[49m\u001B[43m \u001B[49m\n\u001B[0;32m      7\u001B[0m \u001B[43m                                                    \u001B[49m\u001B[43malpha\u001B[49m\u001B[43m,\u001B[49m\u001B[43m \u001B[49m\u001B[43miterations\u001B[49m\u001B[43m)\u001B[49m\n\u001B[0;32m      8\u001B[0m \u001B[38;5;28mprint\u001B[39m(\u001B[38;5;124mf\u001B[39m\u001B[38;5;124m\"\u001B[39m\u001B[38;5;124mb,w found by gradient descent: \u001B[39m\u001B[38;5;132;01m{\u001B[39;00mb_final\u001B[38;5;132;01m:\u001B[39;00m\u001B[38;5;124m0.2f\u001B[39m\u001B[38;5;132;01m}\u001B[39;00m\u001B[38;5;124m,\u001B[39m\u001B[38;5;132;01m{\u001B[39;00mw_final\u001B[38;5;132;01m}\u001B[39;00m\u001B[38;5;124m \u001B[39m\u001B[38;5;124m\"\u001B[39m)\n\u001B[0;32m      9\u001B[0m m,_ \u001B[38;5;241m=\u001B[39m x_train\u001B[38;5;241m.\u001B[39mshape\n",
      "Cell \u001B[1;32mIn[18], line 15\u001B[0m, in \u001B[0;36mgradient_descent\u001B[1;34m(x, y, w_in, b_in, cost_function, gradient_function, alpha, num_iters)\u001B[0m\n\u001B[0;32m     12\u001B[0m         j_history\u001B[38;5;241m.\u001B[39mappend(cost_function(x,y,w,b))\n\u001B[0;32m     14\u001B[0m     \u001B[38;5;28;01mif\u001B[39;00m i\u001B[38;5;241m%\u001B[39m math\u001B[38;5;241m.\u001B[39mceil(num_iters\u001B[38;5;241m/\u001B[39m\u001B[38;5;241m10\u001B[39m) \u001B[38;5;241m==\u001B[39m \u001B[38;5;241m0\u001B[39m:\n\u001B[1;32m---> 15\u001B[0m         \u001B[38;5;28mprint\u001B[39m(\u001B[38;5;124mf\u001B[39m\u001B[38;5;124m'\u001B[39m\u001B[38;5;124mIteration \u001B[39m\u001B[38;5;132;01m{\u001B[39;00mi\u001B[38;5;132;01m:\u001B[39;00m\u001B[38;5;124m4d\u001B[39m\u001B[38;5;132;01m}\u001B[39;00m\u001B[38;5;124m: cost \u001B[39m\u001B[38;5;132;43;01m{\u001B[39;49;00m\u001B[43mj_history\u001B[49m\u001B[43m[\u001B[49m\u001B[38;5;241;43m-\u001B[39;49m\u001B[38;5;241;43m1\u001B[39;49m\u001B[43m]\u001B[49m\u001B[38;5;132;43;01m:\u001B[39;49;00m\u001B[38;5;124;43m8.2f\u001B[39;49m\u001B[38;5;132;43;01m}\u001B[39;49;00m\u001B[38;5;124m'\u001B[39m)\n\u001B[0;32m     16\u001B[0m \u001B[38;5;28;01mreturn\u001B[39;00m w,b,j_history\n",
      "\u001B[1;31mTypeError\u001B[0m: unsupported format string passed to numpy.ndarray.__format__"
     ]
    }
   ],
   "execution_count": 19
  },
  {
   "metadata": {
    "ExecuteTime": {
     "end_time": "2024-04-28T13:05:49.301306Z",
     "start_time": "2024-04-28T13:05:49.100299Z"
    }
   },
   "cell_type": "code",
   "source": [
    "fig, (ax1, ax2) = plt.subplots(1, 2, constrained_layout=True, figsize=(12, 4))\n",
    "ax1.plot(j_hist)\n",
    "ax2.plot(100 + np.arange(len(j_hist[100:])), j_hist[100:])\n",
    "ax1.set_title(\"Cost vs. iteration\");  ax2.set_title(\"Cost vs. iteration (tail)\")\n",
    "ax1.set_ylabel('Cost')             ;  ax2.set_ylabel('Cost') \n",
    "ax1.set_xlabel('iteration step')   ;  ax2.set_xlabel('iteration step') \n",
    "plt.show()"
   ],
   "id": "bb399fe8c456a21e",
   "outputs": [
    {
     "ename": "NameError",
     "evalue": "name 'j_hist' is not defined",
     "output_type": "error",
     "traceback": [
      "\u001B[1;31m---------------------------------------------------------------------------\u001B[0m",
      "\u001B[1;31mNameError\u001B[0m                                 Traceback (most recent call last)",
      "Cell \u001B[1;32mIn[20], line 2\u001B[0m\n\u001B[0;32m      1\u001B[0m fig, (ax1, ax2) \u001B[38;5;241m=\u001B[39m plt\u001B[38;5;241m.\u001B[39msubplots(\u001B[38;5;241m1\u001B[39m, \u001B[38;5;241m2\u001B[39m, constrained_layout\u001B[38;5;241m=\u001B[39m\u001B[38;5;28;01mTrue\u001B[39;00m, figsize\u001B[38;5;241m=\u001B[39m(\u001B[38;5;241m12\u001B[39m, \u001B[38;5;241m4\u001B[39m))\n\u001B[1;32m----> 2\u001B[0m ax1\u001B[38;5;241m.\u001B[39mplot(\u001B[43mj_hist\u001B[49m)\n\u001B[0;32m      3\u001B[0m ax2\u001B[38;5;241m.\u001B[39mplot(\u001B[38;5;241m100\u001B[39m \u001B[38;5;241m+\u001B[39m np\u001B[38;5;241m.\u001B[39marange(\u001B[38;5;28mlen\u001B[39m(j_hist[\u001B[38;5;241m100\u001B[39m:])), j_hist[\u001B[38;5;241m100\u001B[39m:])\n\u001B[0;32m      4\u001B[0m ax1\u001B[38;5;241m.\u001B[39mset_title(\u001B[38;5;124m\"\u001B[39m\u001B[38;5;124mCost vs. iteration\u001B[39m\u001B[38;5;124m\"\u001B[39m);  ax2\u001B[38;5;241m.\u001B[39mset_title(\u001B[38;5;124m\"\u001B[39m\u001B[38;5;124mCost vs. iteration (tail)\u001B[39m\u001B[38;5;124m\"\u001B[39m)\n",
      "\u001B[1;31mNameError\u001B[0m: name 'j_hist' is not defined"
     ]
    },
    {
     "data": {
      "text/plain": [
       "<Figure size 1200x400 with 2 Axes>"
      ],
      "image/png": "[encoded data removed]"
     },
     "metadata": {},
     "output_type": "display_data"
    }
   ],
   "execution_count": 20
  },
  {
   "metadata": {},
   "cell_type": "code",
   "outputs": [],
   "execution_count": null,
   "source": "",
   "id": "809bc603710ef8c3"
  }
 ],
 "metadata": {
  "kernelspec": {
   "display_name": "Python 3",
   "language": "python",
   "name": "python3"
  },
  "language_info": {
   "codemirror_mode": {
    "name": "ipython",
    "version": 2
   },
   "file_extension": ".py",
   "mimetype": "text/x-python",
   "name": "python",
   "nbconvert_exporter": "python",
   "pygments_lexer": "ipython2",
   "version": "2.7.6"
  }
 },
 "nbformat": 4,
 "nbformat_minor": 5
}
